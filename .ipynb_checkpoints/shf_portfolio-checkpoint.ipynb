{
 "cells": [
  {
   "cell_type": "code",
   "execution_count": 13,
   "id": "116ebccd-3afe-4c85-b941-09483c565316",
   "metadata": {},
   "outputs": [],
   "source": [
    "import pandas as pd \n",
    "import numpy as np\n",
    "import hvplot.pandas\n",
    "import matplotlib.pyplot as plt \n",
    "import seaborn as sns\n",
    "from pandas_datareader import data\n",
    "import pandas_datareader as pdr\n",
    "from pathlib import Path \n",
    "\n",
    "import dash\n",
    "import dash_core_components as dcc\n",
    "import dash_html_components as html"
   ]
  },
  {
   "cell_type": "code",
   "execution_count": 4,
   "id": "e6eaf431-faf9-4f16-adcd-96f48f9603d9",
   "metadata": {},
   "outputs": [],
   "source": [
    "# import data\n",
    "\n",
    "\n",
    "symbol='USO','TSLA', 'SPY', 'CL=F'\n",
    "start='2020-12-31'\n",
    "end='2021-10-15'\n",
    "\n",
    "df=data.get_data_yahoo(symbol, start, end)['Close']\n",
    "df.head()\n"
   ]
  },
  {
   "cell_type": "code",
   "execution_count": null,
   "id": "45a24d79-2348-4877-b4e8-c9c89e83c34b",
   "metadata": {},
   "outputs": [],
   "source": []
  }
 ],
 "metadata": {
  "kernelspec": {
   "display_name": "Python 3 (ipykernel)",
   "language": "python",
   "name": "python3"
  },
  "language_info": {
   "codemirror_mode": {
    "name": "ipython",
    "version": 3
   },
   "file_extension": ".py",
   "mimetype": "text/x-python",
   "name": "python",
   "nbconvert_exporter": "python",
   "pygments_lexer": "ipython3",
   "version": "3.9.7"
  }
 },
 "nbformat": 4,
 "nbformat_minor": 5
}
